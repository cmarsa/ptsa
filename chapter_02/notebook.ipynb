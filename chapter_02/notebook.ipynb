{
 "cells": [
  {
   "cell_type": "code",
   "execution_count": 1,
   "metadata": {},
   "outputs": [],
   "source": [
    "# import libraries\n",
    "import os\n",
    "import numpy as np\n",
    "import pandas as pd"
   ]
  },
  {
   "cell_type": "code",
   "execution_count": 2,
   "metadata": {},
   "outputs": [
    {
     "data": {
      "text/plain": [
       "'C:\\\\Users\\\\MDelosSanto\\\\space\\\\dev\\\\ptsa'"
      ]
     },
     "execution_count": 2,
     "metadata": {},
     "output_type": "execute_result"
    }
   ],
   "source": [
    "# change working path\n",
    "os.chdir('../')\n",
    "os.getcwd()"
   ]
  },
  {
   "cell_type": "code",
   "execution_count": 3,
   "metadata": {},
   "outputs": [],
   "source": [
    "# load year_joined table\n",
    "year_joined = pd.read_csv('data/input/nonprofit_org/year_joined.csv')"
   ]
  },
  {
   "cell_type": "code",
   "execution_count": 4,
   "metadata": {},
   "outputs": [
    {
     "data": {
      "text/html": [
       "<div>\n",
       "<style scoped>\n",
       "    .dataframe tbody tr th:only-of-type {\n",
       "        vertical-align: middle;\n",
       "    }\n",
       "\n",
       "    .dataframe tbody tr th {\n",
       "        vertical-align: top;\n",
       "    }\n",
       "\n",
       "    .dataframe thead th {\n",
       "        text-align: right;\n",
       "    }\n",
       "</style>\n",
       "<table border=\"1\" class=\"dataframe\">\n",
       "  <thead>\n",
       "    <tr style=\"text-align: right;\">\n",
       "      <th></th>\n",
       "      <th>year_joined</th>\n",
       "      <th>user_status</th>\n",
       "    </tr>\n",
       "  </thead>\n",
       "  <tbody>\n",
       "    <tr>\n",
       "      <th>0</th>\n",
       "      <td>2018</td>\n",
       "      <td>inactive</td>\n",
       "    </tr>\n",
       "    <tr>\n",
       "      <th>1</th>\n",
       "      <td>2018</td>\n",
       "      <td>silver</td>\n",
       "    </tr>\n",
       "    <tr>\n",
       "      <th>2</th>\n",
       "      <td>2014</td>\n",
       "      <td>bronze</td>\n",
       "    </tr>\n",
       "    <tr>\n",
       "      <th>3</th>\n",
       "      <td>2017</td>\n",
       "      <td>silver</td>\n",
       "    </tr>\n",
       "    <tr>\n",
       "      <th>4</th>\n",
       "      <td>2015</td>\n",
       "      <td>silver</td>\n",
       "    </tr>\n",
       "  </tbody>\n",
       "</table>\n",
       "</div>"
      ],
      "text/plain": [
       "   year_joined user_status\n",
       "0         2018    inactive\n",
       "1         2018      silver\n",
       "2         2014      bronze\n",
       "3         2017      silver\n",
       "4         2015      silver"
      ]
     },
     "execution_count": 4,
     "metadata": {},
     "output_type": "execute_result"
    }
   ],
   "source": [
    "year_joined.head()"
   ]
  },
  {
   "cell_type": "code",
   "execution_count": 5,
   "metadata": {},
   "outputs": [
    {
     "data": {
      "text/html": [
       "<div>\n",
       "<style scoped>\n",
       "    .dataframe tbody tr th:only-of-type {\n",
       "        vertical-align: middle;\n",
       "    }\n",
       "\n",
       "    .dataframe tbody tr th {\n",
       "        vertical-align: top;\n",
       "    }\n",
       "\n",
       "    .dataframe thead th {\n",
       "        text-align: right;\n",
       "    }\n",
       "</style>\n",
       "<table border=\"1\" class=\"dataframe\">\n",
       "  <thead>\n",
       "    <tr style=\"text-align: right;\">\n",
       "      <th></th>\n",
       "      <th>year_joined</th>\n",
       "      <th>user_status</th>\n",
       "    </tr>\n",
       "  </thead>\n",
       "  <tbody>\n",
       "    <tr>\n",
       "      <th>0</th>\n",
       "      <td>2014</td>\n",
       "      <td>90</td>\n",
       "    </tr>\n",
       "    <tr>\n",
       "      <th>1</th>\n",
       "      <td>2015</td>\n",
       "      <td>97</td>\n",
       "    </tr>\n",
       "    <tr>\n",
       "      <th>2</th>\n",
       "      <td>2016</td>\n",
       "      <td>169</td>\n",
       "    </tr>\n",
       "    <tr>\n",
       "      <th>3</th>\n",
       "      <td>2017</td>\n",
       "      <td>295</td>\n",
       "    </tr>\n",
       "    <tr>\n",
       "      <th>4</th>\n",
       "      <td>2018</td>\n",
       "      <td>349</td>\n",
       "    </tr>\n",
       "  </tbody>\n",
       "</table>\n",
       "</div>"
      ],
      "text/plain": [
       "   year_joined  user_status\n",
       "0         2014           90\n",
       "1         2015           97\n",
       "2         2016          169\n",
       "3         2017          295\n",
       "4         2018          349"
      ]
     },
     "execution_count": 5,
     "metadata": {},
     "output_type": "execute_result"
    }
   ],
   "source": [
    "(\n",
    "        year_joined.groupby('year_joined').count().reset_index()\n",
    ")"
   ]
  },
  {
   "cell_type": "code",
   "execution_count": 6,
   "metadata": {},
   "outputs": [
    {
     "data": {
      "text/plain": [
       "year_joined  user_status\n",
       "2014         bronze          45\n",
       "             gold             9\n",
       "             inactive        13\n",
       "             silver          23\n",
       "2015         bronze          49\n",
       "             gold             9\n",
       "             inactive        14\n",
       "             silver          25\n",
       "2016         bronze          99\n",
       "             gold            12\n",
       "             inactive        12\n",
       "             silver          46\n",
       "2017         bronze         167\n",
       "             gold            31\n",
       "             inactive        17\n",
       "             silver          80\n",
       "2018         bronze         176\n",
       "             gold            25\n",
       "             inactive        44\n",
       "             silver         104\n",
       "dtype: int64"
      ]
     },
     "execution_count": 6,
     "metadata": {},
     "output_type": "execute_result"
    }
   ],
   "source": [
    "(\n",
    "        year_joined.groupby(['year_joined', 'user_status']).size()\n",
    ")"
   ]
  },
  {
   "cell_type": "code",
   "execution_count": 7,
   "metadata": {},
   "outputs": [
    {
     "data": {
      "text/html": [
       "<div>\n",
       "<style scoped>\n",
       "    .dataframe tbody tr th:only-of-type {\n",
       "        vertical-align: middle;\n",
       "    }\n",
       "\n",
       "    .dataframe tbody tr th {\n",
       "        vertical-align: top;\n",
       "    }\n",
       "\n",
       "    .dataframe thead th {\n",
       "        text-align: right;\n",
       "    }\n",
       "</style>\n",
       "<table border=\"1\" class=\"dataframe\">\n",
       "  <thead>\n",
       "    <tr style=\"text-align: right;\">\n",
       "      <th></th>\n",
       "      <th>year_joined</th>\n",
       "      <th>user_status</th>\n",
       "      <th>0</th>\n",
       "    </tr>\n",
       "  </thead>\n",
       "  <tbody>\n",
       "    <tr>\n",
       "      <th>0</th>\n",
       "      <td>2014</td>\n",
       "      <td>bronze</td>\n",
       "      <td>45</td>\n",
       "    </tr>\n",
       "    <tr>\n",
       "      <th>1</th>\n",
       "      <td>2014</td>\n",
       "      <td>gold</td>\n",
       "      <td>9</td>\n",
       "    </tr>\n",
       "    <tr>\n",
       "      <th>2</th>\n",
       "      <td>2014</td>\n",
       "      <td>inactive</td>\n",
       "      <td>13</td>\n",
       "    </tr>\n",
       "    <tr>\n",
       "      <th>3</th>\n",
       "      <td>2014</td>\n",
       "      <td>silver</td>\n",
       "      <td>23</td>\n",
       "    </tr>\n",
       "    <tr>\n",
       "      <th>4</th>\n",
       "      <td>2015</td>\n",
       "      <td>bronze</td>\n",
       "      <td>49</td>\n",
       "    </tr>\n",
       "  </tbody>\n",
       "</table>\n",
       "</div>"
      ],
      "text/plain": [
       "   year_joined user_status   0\n",
       "0         2014      bronze  45\n",
       "1         2014        gold   9\n",
       "2         2014    inactive  13\n",
       "3         2014      silver  23\n",
       "4         2015      bronze  49"
      ]
     },
     "execution_count": 7,
     "metadata": {},
     "output_type": "execute_result"
    }
   ],
   "source": [
    "(\n",
    "        year_joined.groupby(['year_joined', 'user_status']).size().reset_index().head()\n",
    ")"
   ]
  },
  {
   "cell_type": "code",
   "execution_count": 8,
   "metadata": {},
   "outputs": [
    {
     "data": {
      "text/plain": [
       "user_status    1000\n",
       "dtype: int64"
      ]
     },
     "execution_count": 8,
     "metadata": {},
     "output_type": "execute_result"
    }
   ],
   "source": [
    "(\n",
    "    year_joined.groupby('year_joined').count().\n",
    "                groupby('user_status').count().\n",
    "                reset_index().\n",
    "                sum()\n",
    ")"
   ]
  },
  {
   "cell_type": "code",
   "execution_count": 9,
   "metadata": {},
   "outputs": [],
   "source": [
    "# load emails table\n",
    "emails = pd.read_csv('data/input/nonprofit_org/emails.csv')"
   ]
  },
  {
   "cell_type": "code",
   "execution_count": 10,
   "metadata": {},
   "outputs": [
    {
     "data": {
      "text/html": [
       "<div>\n",
       "<style scoped>\n",
       "    .dataframe tbody tr th:only-of-type {\n",
       "        vertical-align: middle;\n",
       "    }\n",
       "\n",
       "    .dataframe tbody tr th {\n",
       "        vertical-align: top;\n",
       "    }\n",
       "\n",
       "    .dataframe thead th {\n",
       "        text-align: right;\n",
       "    }\n",
       "</style>\n",
       "<table border=\"1\" class=\"dataframe\">\n",
       "  <thead>\n",
       "    <tr style=\"text-align: right;\">\n",
       "      <th></th>\n",
       "      <th>user</th>\n",
       "      <th>week</th>\n",
       "      <th>emails_opened</th>\n",
       "    </tr>\n",
       "  </thead>\n",
       "  <tbody>\n",
       "    <tr>\n",
       "      <th>0</th>\n",
       "      <td>2.0</td>\n",
       "      <td>2015-02-09 00:00:00</td>\n",
       "      <td>3.0</td>\n",
       "    </tr>\n",
       "    <tr>\n",
       "      <th>1</th>\n",
       "      <td>2.0</td>\n",
       "      <td>2015-02-16 00:00:00</td>\n",
       "      <td>3.0</td>\n",
       "    </tr>\n",
       "    <tr>\n",
       "      <th>2</th>\n",
       "      <td>2.0</td>\n",
       "      <td>2015-02-23 00:00:00</td>\n",
       "      <td>3.0</td>\n",
       "    </tr>\n",
       "    <tr>\n",
       "      <th>3</th>\n",
       "      <td>2.0</td>\n",
       "      <td>2015-03-02 00:00:00</td>\n",
       "      <td>3.0</td>\n",
       "    </tr>\n",
       "    <tr>\n",
       "      <th>4</th>\n",
       "      <td>2.0</td>\n",
       "      <td>2015-03-09 00:00:00</td>\n",
       "      <td>3.0</td>\n",
       "    </tr>\n",
       "  </tbody>\n",
       "</table>\n",
       "</div>"
      ],
      "text/plain": [
       "   user                 week  emails_opened\n",
       "0   2.0  2015-02-09 00:00:00            3.0\n",
       "1   2.0  2015-02-16 00:00:00            3.0\n",
       "2   2.0  2015-02-23 00:00:00            3.0\n",
       "3   2.0  2015-03-02 00:00:00            3.0\n",
       "4   2.0  2015-03-09 00:00:00            3.0"
      ]
     },
     "execution_count": 10,
     "metadata": {},
     "output_type": "execute_result"
    }
   ],
   "source": [
    "emails.head()"
   ]
  },
  {
   "cell_type": "code",
   "execution_count": 11,
   "metadata": {},
   "outputs": [
    {
     "data": {
      "text/html": [
       "<div>\n",
       "<style scoped>\n",
       "    .dataframe tbody tr th:only-of-type {\n",
       "        vertical-align: middle;\n",
       "    }\n",
       "\n",
       "    .dataframe tbody tr th {\n",
       "        vertical-align: top;\n",
       "    }\n",
       "\n",
       "    .dataframe thead th {\n",
       "        text-align: right;\n",
       "    }\n",
       "</style>\n",
       "<table border=\"1\" class=\"dataframe\">\n",
       "  <thead>\n",
       "    <tr style=\"text-align: right;\">\n",
       "      <th></th>\n",
       "      <th>user</th>\n",
       "      <th>week</th>\n",
       "      <th>emails_opened</th>\n",
       "    </tr>\n",
       "  </thead>\n",
       "  <tbody>\n",
       "  </tbody>\n",
       "</table>\n",
       "</div>"
      ],
      "text/plain": [
       "Empty DataFrame\n",
       "Columns: [user, week, emails_opened]\n",
       "Index: []"
      ]
     },
     "execution_count": 11,
     "metadata": {},
     "output_type": "execute_result"
    }
   ],
   "source": [
    "emails[emails['emails_opened'] < 1]"
   ]
  },
  {
   "cell_type": "code",
   "execution_count": 12,
   "metadata": {},
   "outputs": [
    {
     "data": {
      "text/html": [
       "<div>\n",
       "<style scoped>\n",
       "    .dataframe tbody tr th:only-of-type {\n",
       "        vertical-align: middle;\n",
       "    }\n",
       "\n",
       "    .dataframe tbody tr th {\n",
       "        vertical-align: top;\n",
       "    }\n",
       "\n",
       "    .dataframe thead th {\n",
       "        text-align: right;\n",
       "    }\n",
       "</style>\n",
       "<table border=\"1\" class=\"dataframe\">\n",
       "  <thead>\n",
       "    <tr style=\"text-align: right;\">\n",
       "      <th></th>\n",
       "      <th>user</th>\n",
       "      <th>week</th>\n",
       "      <th>emails_opened</th>\n",
       "    </tr>\n",
       "  </thead>\n",
       "  <tbody>\n",
       "    <tr>\n",
       "      <th>28535</th>\n",
       "      <td>998.0</td>\n",
       "      <td>2015-02-09 00:00:00</td>\n",
       "      <td>2.0</td>\n",
       "    </tr>\n",
       "    <tr>\n",
       "      <th>28536</th>\n",
       "      <td>998.0</td>\n",
       "      <td>2015-02-16 00:00:00</td>\n",
       "      <td>2.0</td>\n",
       "    </tr>\n",
       "    <tr>\n",
       "      <th>28537</th>\n",
       "      <td>998.0</td>\n",
       "      <td>2015-02-23 00:00:00</td>\n",
       "      <td>2.0</td>\n",
       "    </tr>\n",
       "    <tr>\n",
       "      <th>28538</th>\n",
       "      <td>998.0</td>\n",
       "      <td>2015-03-16 00:00:00</td>\n",
       "      <td>1.0</td>\n",
       "    </tr>\n",
       "    <tr>\n",
       "      <th>28539</th>\n",
       "      <td>998.0</td>\n",
       "      <td>2015-03-23 00:00:00</td>\n",
       "      <td>2.0</td>\n",
       "    </tr>\n",
       "    <tr>\n",
       "      <th>28540</th>\n",
       "      <td>998.0</td>\n",
       "      <td>2015-03-30 00:00:00</td>\n",
       "      <td>2.0</td>\n",
       "    </tr>\n",
       "    <tr>\n",
       "      <th>28541</th>\n",
       "      <td>998.0</td>\n",
       "      <td>2015-04-06 00:00:00</td>\n",
       "      <td>1.0</td>\n",
       "    </tr>\n",
       "    <tr>\n",
       "      <th>28542</th>\n",
       "      <td>998.0</td>\n",
       "      <td>2015-05-04 00:00:00</td>\n",
       "      <td>1.0</td>\n",
       "    </tr>\n",
       "    <tr>\n",
       "      <th>28543</th>\n",
       "      <td>998.0</td>\n",
       "      <td>2015-06-22 00:00:00</td>\n",
       "      <td>1.0</td>\n",
       "    </tr>\n",
       "    <tr>\n",
       "      <th>28544</th>\n",
       "      <td>998.0</td>\n",
       "      <td>2015-08-03 00:00:00</td>\n",
       "      <td>1.0</td>\n",
       "    </tr>\n",
       "  </tbody>\n",
       "</table>\n",
       "</div>"
      ],
      "text/plain": [
       "        user                 week  emails_opened\n",
       "28535  998.0  2015-02-09 00:00:00            2.0\n",
       "28536  998.0  2015-02-16 00:00:00            2.0\n",
       "28537  998.0  2015-02-23 00:00:00            2.0\n",
       "28538  998.0  2015-03-16 00:00:00            1.0\n",
       "28539  998.0  2015-03-23 00:00:00            2.0\n",
       "28540  998.0  2015-03-30 00:00:00            2.0\n",
       "28541  998.0  2015-04-06 00:00:00            1.0\n",
       "28542  998.0  2015-05-04 00:00:00            1.0\n",
       "28543  998.0  2015-06-22 00:00:00            1.0\n",
       "28544  998.0  2015-08-03 00:00:00            1.0"
      ]
     },
     "execution_count": 12,
     "metadata": {},
     "output_type": "execute_result"
    }
   ],
   "source": [
    "# check history of one user\n",
    "emails[emails['user'] == 998]"
   ]
  },
  {
   "cell_type": "code",
   "execution_count": 13,
   "metadata": {},
   "outputs": [],
   "source": [
    "# we can observe there are weeks missing"
   ]
  },
  {
   "cell_type": "markdown",
   "metadata": {},
   "source": [
    "We  can  check  this  more  mathematically  by  calculating  how  many  weekly  observa‐tions we should have between the first and last event for that member. First we calcu‐late the length of the member’s tenure, in weeks:"
   ]
  },
  {
   "cell_type": "code",
   "execution_count": 14,
   "metadata": {},
   "outputs": [],
   "source": [
    "emails['week'] = pd.to_datetime(emails['week'])"
   ]
  },
  {
   "cell_type": "code",
   "execution_count": 15,
   "metadata": {},
   "outputs": [
    {
     "data": {
      "text/plain": [
       "25.0"
      ]
     },
     "execution_count": 15,
     "metadata": {},
     "output_type": "execute_result"
    }
   ],
   "source": [
    "(\n",
    "    max(emails[emails['user'] == 998]['week']) - min(emails[emails['user'] == 998]['week'])\n",
    ").days / 7"
   ]
  },
  {
   "cell_type": "markdown",
   "metadata": {},
   "source": [
    "Then we see how many weeks of data we have for that member:"
   ]
  },
  {
   "cell_type": "code",
   "execution_count": 16,
   "metadata": {},
   "outputs": [
    {
     "data": {
      "text/plain": [
       "(10, 3)"
      ]
     },
     "execution_count": 16,
     "metadata": {},
     "output_type": "execute_result"
    }
   ],
   "source": [
    "emails[emails['user'] == 998].shape"
   ]
  },
  {
   "cell_type": "markdown",
   "metadata": {},
   "source": [
    "We have 10 rows here, but we should have 26. This  shows  some  weeks  of  data  aremissing for this member."
   ]
  },
  {
   "cell_type": "markdown",
   "metadata": {},
   "source": [
    "### Why 26 Rows?\n",
    "You may be surprised that we need 26 instead of 25 given the subtraction we just per‐formed,  but  that  was  an  incomplete  calculation.  When  you  work  with  time  seriesdata, one thing you should always ask yourself after doing this kind of subtraction iswhether you should add 1 to account for the offset at the end. In other words, did yousubtract the positions you wanted to count?\n",
    "\n",
    "Consider  this  example.  Let’s  say  I  have  information  for  April  7th,  14th,  21st,  and28th. I want to know how many data points I should have in total. Subtracting 7 from28  and  dividing  by  7  yields  21/7  or  3.  However,  I  should  obviously  have  four  datapoints. I subtracted out April 7th and need to put it back in, so the proper calculationis the difference between the first and last days divided by 7, plus 1 to account for thesubtracted start date."
   ]
  },
  {
   "cell_type": "markdown",
   "metadata": {},
   "source": [
    "We’ll move on to filling in the blanks so that we have a complete data set now that wehave confirmed we do indeed have missing weeks. We can’t be sure of identifying allmissing  weeks,  since  some  may  have  occurred  before  our  earliest  recorded  date  orafter  our  last  recorded  date.  What  we  can  do,  however,  is  fill  in  the  missing  valuesbetween the first and last time a member had a non-null event.\n",
    "\n",
    "It’s  a  lot  easier  to  fill  in  all  missing  weeks  for  all  members  by  exploiting  Pandas’indexing  functionality,  rather  than  writing  our  own  solution.  We  can  generate  aMultiIndex for a Pandas data frame, which will create all combinations of weeks andmembers—that is, a Cartesian product:"
   ]
  },
  {
   "cell_type": "code",
   "execution_count": 17,
   "metadata": {},
   "outputs": [],
   "source": [
    "complete_idx = pd.MultiIndex.from_product((set(emails['week']), set(emails['user'])))"
   ]
  },
  {
   "cell_type": "code",
   "execution_count": 18,
   "metadata": {},
   "outputs": [
    {
     "data": {
      "text/plain": [
       "MultiIndex([('2018-03-26',   2.0),\n",
       "            ('2018-03-26',   3.0),\n",
       "            ('2018-03-26',   4.0),\n",
       "            ('2018-03-26',   5.0),\n",
       "            ('2018-03-26',   9.0),\n",
       "            ('2018-03-26',  12.0),\n",
       "            ('2018-03-26',  14.0),\n",
       "            ('2018-03-26',  15.0),\n",
       "            ('2018-03-26',  17.0),\n",
       "            ('2018-03-26',  18.0),\n",
       "            ...\n",
       "            ('2015-10-12', 987.0),\n",
       "            ('2015-10-12', 988.0),\n",
       "            ('2015-10-12', 989.0),\n",
       "            ('2015-10-12', 990.0),\n",
       "            ('2015-10-12', 994.0),\n",
       "            ('2015-10-12', 995.0),\n",
       "            ('2015-10-12', 996.0),\n",
       "            ('2015-10-12', 997.0),\n",
       "            ('2015-10-12', 998.0),\n",
       "            ('2015-10-12', 999.0)],\n",
       "           length=99648)"
      ]
     },
     "execution_count": 18,
     "metadata": {},
     "output_type": "execute_result"
    }
   ],
   "source": [
    "complete_idx"
   ]
  },
  {
   "cell_type": "code",
   "execution_count": 19,
   "metadata": {},
   "outputs": [
    {
     "data": {
      "text/plain": [
       "99648"
      ]
     },
     "execution_count": 19,
     "metadata": {},
     "output_type": "execute_result"
    }
   ],
   "source": [
    "len(complete_idx)"
   ]
  },
  {
   "cell_type": "markdown",
   "metadata": {},
   "source": [
    "We use this index to reindex the original table and fill in the missing values—in thiscase  with  0  on  the  assumption  that  nothing  recorded  means  there  was  nothing  torecord. We also reset the index to make the member and week information availableas columns, and then name those columns:"
   ]
  },
  {
   "cell_type": "code",
   "execution_count": 20,
   "metadata": {},
   "outputs": [],
   "source": [
    "all_email = (\n",
    "    emails.set_index(['week', 'user']).\n",
    "    reindex(complete_idx, fill_value = 0).\n",
    "    reset_index()\n",
    ")"
   ]
  },
  {
   "cell_type": "code",
   "execution_count": 21,
   "metadata": {},
   "outputs": [],
   "source": [
    "all_email.columns = ['week', 'user', 'emails_opened']"
   ]
  },
  {
   "cell_type": "markdown",
   "metadata": {},
   "source": [
    "Let’s take a look at member 998 again:"
   ]
  },
  {
   "cell_type": "code",
   "execution_count": 22,
   "metadata": {},
   "outputs": [
    {
     "data": {
      "text/html": [
       "<div>\n",
       "<style scoped>\n",
       "    .dataframe tbody tr th:only-of-type {\n",
       "        vertical-align: middle;\n",
       "    }\n",
       "\n",
       "    .dataframe tbody tr th {\n",
       "        vertical-align: top;\n",
       "    }\n",
       "\n",
       "    .dataframe thead th {\n",
       "        text-align: right;\n",
       "    }\n",
       "</style>\n",
       "<table border=\"1\" class=\"dataframe\">\n",
       "  <thead>\n",
       "    <tr style=\"text-align: right;\">\n",
       "      <th></th>\n",
       "      <th>week</th>\n",
       "      <th>user</th>\n",
       "      <th>emails_opened</th>\n",
       "    </tr>\n",
       "  </thead>\n",
       "  <tbody>\n",
       "    <tr>\n",
       "      <th>74302</th>\n",
       "      <td>2015-02-09</td>\n",
       "      <td>998.0</td>\n",
       "      <td>2.0</td>\n",
       "    </tr>\n",
       "    <tr>\n",
       "      <th>89854</th>\n",
       "      <td>2015-02-16</td>\n",
       "      <td>998.0</td>\n",
       "      <td>2.0</td>\n",
       "    </tr>\n",
       "    <tr>\n",
       "      <th>2302</th>\n",
       "      <td>2015-02-23</td>\n",
       "      <td>998.0</td>\n",
       "      <td>2.0</td>\n",
       "    </tr>\n",
       "    <tr>\n",
       "      <th>40894</th>\n",
       "      <td>2015-03-02</td>\n",
       "      <td>998.0</td>\n",
       "      <td>0.0</td>\n",
       "    </tr>\n",
       "    <tr>\n",
       "      <th>30526</th>\n",
       "      <td>2015-03-09</td>\n",
       "      <td>998.0</td>\n",
       "      <td>0.0</td>\n",
       "    </tr>\n",
       "    <tr>\n",
       "      <th>...</th>\n",
       "      <td>...</td>\n",
       "      <td>...</td>\n",
       "      <td>...</td>\n",
       "    </tr>\n",
       "    <tr>\n",
       "      <th>33982</th>\n",
       "      <td>2018-04-30</td>\n",
       "      <td>998.0</td>\n",
       "      <td>0.0</td>\n",
       "    </tr>\n",
       "    <tr>\n",
       "      <th>51838</th>\n",
       "      <td>2018-05-07</td>\n",
       "      <td>998.0</td>\n",
       "      <td>0.0</td>\n",
       "    </tr>\n",
       "    <tr>\n",
       "      <th>79486</th>\n",
       "      <td>2018-05-14</td>\n",
       "      <td>998.0</td>\n",
       "      <td>0.0</td>\n",
       "    </tr>\n",
       "    <tr>\n",
       "      <th>55294</th>\n",
       "      <td>2018-05-21</td>\n",
       "      <td>998.0</td>\n",
       "      <td>0.0</td>\n",
       "    </tr>\n",
       "    <tr>\n",
       "      <th>82942</th>\n",
       "      <td>2018-05-28</td>\n",
       "      <td>998.0</td>\n",
       "      <td>0.0</td>\n",
       "    </tr>\n",
       "  </tbody>\n",
       "</table>\n",
       "<p>173 rows × 3 columns</p>\n",
       "</div>"
      ],
      "text/plain": [
       "            week   user  emails_opened\n",
       "74302 2015-02-09  998.0            2.0\n",
       "89854 2015-02-16  998.0            2.0\n",
       "2302  2015-02-23  998.0            2.0\n",
       "40894 2015-03-02  998.0            0.0\n",
       "30526 2015-03-09  998.0            0.0\n",
       "...          ...    ...            ...\n",
       "33982 2018-04-30  998.0            0.0\n",
       "51838 2018-05-07  998.0            0.0\n",
       "79486 2018-05-14  998.0            0.0\n",
       "55294 2018-05-21  998.0            0.0\n",
       "82942 2018-05-28  998.0            0.0\n",
       "\n",
       "[173 rows x 3 columns]"
      ]
     },
     "execution_count": 22,
     "metadata": {},
     "output_type": "execute_result"
    }
   ],
   "source": [
    "all_email[all_email['user'] == 998].sort_values('week')"
   ]
  },
  {
   "cell_type": "markdown",
   "metadata": {},
   "source": [
    "Notice  that  we  have  a  large  number  of  zeros  at  the  start.  These  are  likely  before  themember joined the organization, so they would not have been on an email list. Thereare not too many kinds of analyses where we’d want to keep the member’s truly nullweeks  around—specifically  those  weeks  before  the  member  ever  indicated  openingan  email.  If  we  had  the  precise  date  a  member  started  receiving  emails,  we  wouldhave  an  objective  cutoff.  As  it  is,  we  will  let  the  data  guide  us.  For  each  member  wedetermine  the  start_date  and  end_date  cutoffs  by  grouping  the  email  DataFrameper member and selecting the maximum and minimum week values:"
   ]
  },
  {
   "cell_type": "code",
   "execution_count": 23,
   "metadata": {},
   "outputs": [],
   "source": [
    "cutoff_dates = (\n",
    "    emails.groupby('user').week.\n",
    "    agg(['min', 'max']).\n",
    "    reset_index()\n",
    ")"
   ]
  },
  {
   "cell_type": "code",
   "execution_count": 24,
   "metadata": {},
   "outputs": [],
   "source": [
    "cutoff_dates = cutoff_dates.reset_index()"
   ]
  },
  {
   "cell_type": "markdown",
   "metadata": {},
   "source": [
    "We drop rows from the DataFrame that don’t contribute sensibly to the chronology,specifically 0 rows before each member’s first nonzero count:"
   ]
  },
  {
   "cell_type": "code",
   "execution_count": 25,
   "metadata": {},
   "outputs": [],
   "source": [
    "for __, row in cutoff_dates.iterrows():\n",
    "    # define user and its info\n",
    "    user = row['user']\n",
    "    start_date = row['min']\n",
    "    end_date = row['max']\n",
    "    # drop 0s before start_date\n",
    "    all_email.drop(\n",
    "        all_email[(all_email['user'] == user) &\n",
    "                  (all_email['week'] < start_date)].index,\n",
    "        inplace = True\n",
    "    )\n",
    "    # drop 0s after end_date\n",
    "    all_email.drop(\n",
    "        all_email[(all_email['user'] == user) &\n",
    "                  (all_email['week'] > end_date)].index,\n",
    "        inplace = True\n",
    "    )"
   ]
  },
  {
   "cell_type": "code",
   "execution_count": 26,
   "metadata": {},
   "outputs": [
    {
     "data": {
      "text/html": [
       "<div>\n",
       "<style scoped>\n",
       "    .dataframe tbody tr th:only-of-type {\n",
       "        vertical-align: middle;\n",
       "    }\n",
       "\n",
       "    .dataframe tbody tr th {\n",
       "        vertical-align: top;\n",
       "    }\n",
       "\n",
       "    .dataframe thead th {\n",
       "        text-align: right;\n",
       "    }\n",
       "</style>\n",
       "<table border=\"1\" class=\"dataframe\">\n",
       "  <thead>\n",
       "    <tr style=\"text-align: right;\">\n",
       "      <th></th>\n",
       "      <th>week</th>\n",
       "      <th>user</th>\n",
       "      <th>emails_opened</th>\n",
       "    </tr>\n",
       "  </thead>\n",
       "  <tbody>\n",
       "    <tr>\n",
       "      <th>74302</th>\n",
       "      <td>2015-02-09</td>\n",
       "      <td>998.0</td>\n",
       "      <td>2.0</td>\n",
       "    </tr>\n",
       "    <tr>\n",
       "      <th>89854</th>\n",
       "      <td>2015-02-16</td>\n",
       "      <td>998.0</td>\n",
       "      <td>2.0</td>\n",
       "    </tr>\n",
       "    <tr>\n",
       "      <th>2302</th>\n",
       "      <td>2015-02-23</td>\n",
       "      <td>998.0</td>\n",
       "      <td>2.0</td>\n",
       "    </tr>\n",
       "    <tr>\n",
       "      <th>40894</th>\n",
       "      <td>2015-03-02</td>\n",
       "      <td>998.0</td>\n",
       "      <td>0.0</td>\n",
       "    </tr>\n",
       "    <tr>\n",
       "      <th>30526</th>\n",
       "      <td>2015-03-09</td>\n",
       "      <td>998.0</td>\n",
       "      <td>0.0</td>\n",
       "    </tr>\n",
       "    <tr>\n",
       "      <th>59902</th>\n",
       "      <td>2015-03-16</td>\n",
       "      <td>998.0</td>\n",
       "      <td>1.0</td>\n",
       "    </tr>\n",
       "    <tr>\n",
       "      <th>37438</th>\n",
       "      <td>2015-03-23</td>\n",
       "      <td>998.0</td>\n",
       "      <td>2.0</td>\n",
       "    </tr>\n",
       "    <tr>\n",
       "      <th>20734</th>\n",
       "      <td>2015-03-30</td>\n",
       "      <td>998.0</td>\n",
       "      <td>2.0</td>\n",
       "    </tr>\n",
       "    <tr>\n",
       "      <th>32254</th>\n",
       "      <td>2015-04-06</td>\n",
       "      <td>998.0</td>\n",
       "      <td>1.0</td>\n",
       "    </tr>\n",
       "    <tr>\n",
       "      <th>44350</th>\n",
       "      <td>2015-04-13</td>\n",
       "      <td>998.0</td>\n",
       "      <td>0.0</td>\n",
       "    </tr>\n",
       "    <tr>\n",
       "      <th>89278</th>\n",
       "      <td>2015-04-20</td>\n",
       "      <td>998.0</td>\n",
       "      <td>0.0</td>\n",
       "    </tr>\n",
       "    <tr>\n",
       "      <th>29950</th>\n",
       "      <td>2015-04-27</td>\n",
       "      <td>998.0</td>\n",
       "      <td>0.0</td>\n",
       "    </tr>\n",
       "    <tr>\n",
       "      <th>65086</th>\n",
       "      <td>2015-05-04</td>\n",
       "      <td>998.0</td>\n",
       "      <td>1.0</td>\n",
       "    </tr>\n",
       "    <tr>\n",
       "      <th>46654</th>\n",
       "      <td>2015-05-11</td>\n",
       "      <td>998.0</td>\n",
       "      <td>0.0</td>\n",
       "    </tr>\n",
       "    <tr>\n",
       "      <th>67966</th>\n",
       "      <td>2015-05-18</td>\n",
       "      <td>998.0</td>\n",
       "      <td>0.0</td>\n",
       "    </tr>\n",
       "    <tr>\n",
       "      <th>6910</th>\n",
       "      <td>2015-05-25</td>\n",
       "      <td>998.0</td>\n",
       "      <td>0.0</td>\n",
       "    </tr>\n",
       "    <tr>\n",
       "      <th>35710</th>\n",
       "      <td>2015-06-01</td>\n",
       "      <td>998.0</td>\n",
       "      <td>0.0</td>\n",
       "    </tr>\n",
       "    <tr>\n",
       "      <th>60478</th>\n",
       "      <td>2015-06-08</td>\n",
       "      <td>998.0</td>\n",
       "      <td>0.0</td>\n",
       "    </tr>\n",
       "    <tr>\n",
       "      <th>93310</th>\n",
       "      <td>2015-06-15</td>\n",
       "      <td>998.0</td>\n",
       "      <td>0.0</td>\n",
       "    </tr>\n",
       "    <tr>\n",
       "      <th>52414</th>\n",
       "      <td>2015-06-22</td>\n",
       "      <td>998.0</td>\n",
       "      <td>1.0</td>\n",
       "    </tr>\n",
       "    <tr>\n",
       "      <th>4606</th>\n",
       "      <td>2015-06-29</td>\n",
       "      <td>998.0</td>\n",
       "      <td>0.0</td>\n",
       "    </tr>\n",
       "    <tr>\n",
       "      <th>69118</th>\n",
       "      <td>2015-07-06</td>\n",
       "      <td>998.0</td>\n",
       "      <td>0.0</td>\n",
       "    </tr>\n",
       "    <tr>\n",
       "      <th>86974</th>\n",
       "      <td>2015-07-13</td>\n",
       "      <td>998.0</td>\n",
       "      <td>0.0</td>\n",
       "    </tr>\n",
       "    <tr>\n",
       "      <th>81214</th>\n",
       "      <td>2015-07-20</td>\n",
       "      <td>998.0</td>\n",
       "      <td>0.0</td>\n",
       "    </tr>\n",
       "    <tr>\n",
       "      <th>80638</th>\n",
       "      <td>2015-07-27</td>\n",
       "      <td>998.0</td>\n",
       "      <td>0.0</td>\n",
       "    </tr>\n",
       "    <tr>\n",
       "      <th>6334</th>\n",
       "      <td>2015-08-03</td>\n",
       "      <td>998.0</td>\n",
       "      <td>1.0</td>\n",
       "    </tr>\n",
       "  </tbody>\n",
       "</table>\n",
       "</div>"
      ],
      "text/plain": [
       "            week   user  emails_opened\n",
       "74302 2015-02-09  998.0            2.0\n",
       "89854 2015-02-16  998.0            2.0\n",
       "2302  2015-02-23  998.0            2.0\n",
       "40894 2015-03-02  998.0            0.0\n",
       "30526 2015-03-09  998.0            0.0\n",
       "59902 2015-03-16  998.0            1.0\n",
       "37438 2015-03-23  998.0            2.0\n",
       "20734 2015-03-30  998.0            2.0\n",
       "32254 2015-04-06  998.0            1.0\n",
       "44350 2015-04-13  998.0            0.0\n",
       "89278 2015-04-20  998.0            0.0\n",
       "29950 2015-04-27  998.0            0.0\n",
       "65086 2015-05-04  998.0            1.0\n",
       "46654 2015-05-11  998.0            0.0\n",
       "67966 2015-05-18  998.0            0.0\n",
       "6910  2015-05-25  998.0            0.0\n",
       "35710 2015-06-01  998.0            0.0\n",
       "60478 2015-06-08  998.0            0.0\n",
       "93310 2015-06-15  998.0            0.0\n",
       "52414 2015-06-22  998.0            1.0\n",
       "4606  2015-06-29  998.0            0.0\n",
       "69118 2015-07-06  998.0            0.0\n",
       "86974 2015-07-13  998.0            0.0\n",
       "81214 2015-07-20  998.0            0.0\n",
       "80638 2015-07-27  998.0            0.0\n",
       "6334  2015-08-03  998.0            1.0"
      ]
     },
     "execution_count": 26,
     "metadata": {},
     "output_type": "execute_result"
    }
   ],
   "source": [
    "all_email[all_email['user'] == 998].sort_values(by = 'week')"
   ]
  },
  {
   "cell_type": "markdown",
   "metadata": {},
   "source": [
    "### Constructing a Found Time Series"
   ]
  },
  {
   "cell_type": "markdown",
   "metadata": {},
   "source": [
    "Consider how to relate the email and donations data to one another. We can down‐sample the donation data to turn it into a weekly time series, comparable to the emaildata. As an organization, we are interested in the total weekly amounts, so we aggre‐gate  the  timestamps  into  weekly  periods  by  summing.  More  than  one  donation  in  aweek is unlikely, so the weekly donation amounts will reflect the individual donationamounts for most donors"
   ]
  },
  {
   "cell_type": "code",
   "execution_count": 27,
   "metadata": {},
   "outputs": [],
   "source": [
    "donations = pd.read_csv('data/input/nonprofit_org/donations.csv')"
   ]
  },
  {
   "cell_type": "code",
   "execution_count": 28,
   "metadata": {},
   "outputs": [
    {
     "data": {
      "text/html": [
       "<div>\n",
       "<style scoped>\n",
       "    .dataframe tbody tr th:only-of-type {\n",
       "        vertical-align: middle;\n",
       "    }\n",
       "\n",
       "    .dataframe tbody tr th {\n",
       "        vertical-align: top;\n",
       "    }\n",
       "\n",
       "    .dataframe thead th {\n",
       "        text-align: right;\n",
       "    }\n",
       "</style>\n",
       "<table border=\"1\" class=\"dataframe\">\n",
       "  <thead>\n",
       "    <tr style=\"text-align: right;\">\n",
       "      <th></th>\n",
       "      <th>user</th>\n",
       "      <th>amount</th>\n",
       "      <th>timestamp</th>\n",
       "    </tr>\n",
       "  </thead>\n",
       "  <tbody>\n",
       "    <tr>\n",
       "      <th>0</th>\n",
       "      <td>2.0</td>\n",
       "      <td>25.0</td>\n",
       "      <td>2015-02-19 14:22:17</td>\n",
       "    </tr>\n",
       "    <tr>\n",
       "      <th>1</th>\n",
       "      <td>2.0</td>\n",
       "      <td>50.0</td>\n",
       "      <td>2015-08-14 14:12:05</td>\n",
       "    </tr>\n",
       "    <tr>\n",
       "      <th>2</th>\n",
       "      <td>2.0</td>\n",
       "      <td>25.0</td>\n",
       "      <td>2017-09-09 14:25:50</td>\n",
       "    </tr>\n",
       "    <tr>\n",
       "      <th>3</th>\n",
       "      <td>2.0</td>\n",
       "      <td>50.0</td>\n",
       "      <td>2017-09-14 14:06:47</td>\n",
       "    </tr>\n",
       "    <tr>\n",
       "      <th>4</th>\n",
       "      <td>2.0</td>\n",
       "      <td>25.0</td>\n",
       "      <td>2017-07-31 18:41:25</td>\n",
       "    </tr>\n",
       "  </tbody>\n",
       "</table>\n",
       "</div>"
      ],
      "text/plain": [
       "   user  amount            timestamp\n",
       "0   2.0    25.0  2015-02-19 14:22:17\n",
       "1   2.0    50.0  2015-08-14 14:12:05\n",
       "2   2.0    25.0  2017-09-09 14:25:50\n",
       "3   2.0    50.0  2017-09-14 14:06:47\n",
       "4   2.0    25.0  2017-07-31 18:41:25"
      ]
     },
     "execution_count": 28,
     "metadata": {},
     "output_type": "execute_result"
    }
   ],
   "source": [
    "donations.head()"
   ]
  },
  {
   "cell_type": "code",
   "execution_count": 29,
   "metadata": {},
   "outputs": [],
   "source": [
    "donations['timestamp'] = pd.to_datetime(donations['timestamp'])"
   ]
  },
  {
   "cell_type": "code",
   "execution_count": 30,
   "metadata": {},
   "outputs": [],
   "source": [
    "donations.set_index('timestamp', inplace = True)"
   ]
  },
  {
   "cell_type": "code",
   "execution_count": 31,
   "metadata": {},
   "outputs": [],
   "source": [
    "agg_donations = (\n",
    "    donations.groupby('user').\n",
    "    apply(\n",
    "        lambda df: df['amount'].resample('W-MON').\n",
    "        sum().\n",
    "        dropna()\n",
    "    )\n",
    ")"
   ]
  },
  {
   "cell_type": "code",
   "execution_count": 32,
   "metadata": {},
   "outputs": [],
   "source": [
    "agg_donations = agg_donations.reset_index()"
   ]
  },
  {
   "cell_type": "markdown",
   "metadata": {},
   "source": [
    "In this code we first convert a string character to a proper timestamped data class soas to benefit from Pandas’ built-in date-related indexing. We set the timestamp as anindex, as is necessary for resampling a data frame. Finally for the data frame that weobtain from subsetting down to each member, we group and sum donations by week,drop weeks that do not have donations, and then collect these together.\n",
    "\n",
    "Note  that  we  resampled  with  an  anchored  week  so  that  we  will  match  the  sameweekly  dates  we  already  have  in  our  email  table.  Note  also  that  a  week  anchored  to“Monday” makes sense from a human perspective.\n",
    "\n",
    "We now have donation information and email information sampled at the same fre‐quency,  and  we  can  join  them.  Pandas  makes  this  simple  so  long  as  we  anchor  theweeks  to  the  same  day  of  the  week,  as  we’ve  done  already.  We  can  iterate  througheach member and merge the data frames per member:"
   ]
  },
  {
   "cell_type": "code",
   "execution_count": 34,
   "metadata": {},
   "outputs": [],
   "source": [
    "merged_df = pd.DataFrame()\n",
    "for user, user_email in all_email.groupby('user'):\n",
    "    user_donations = agg_donations[agg_donations['user'] == user]\n",
    "    user_donations.set_index('timestamp', inplace = True)\n",
    "    user_email.set_index('week', inplace = True)\n",
    "    user_email = all_email[all_email['user'] == user]\n",
    "    user_email.sort_values('week').set_index('week')\n",
    "    df = pd.merge(user_email, user_donations, how = 'left',\n",
    "                  left_index = True,\n",
    "                  right_index = True)\n",
    "    df.fillna(0)\n",
    "    df['user'] = df['user_x']\n",
    "    merged_df = merged_df.append(\n",
    "        df.reset_index()[['user', 'week', 'emails_opened', 'amount']]\n",
    "    )"
   ]
  },
  {
   "cell_type": "code",
   "execution_count": 35,
   "metadata": {},
   "outputs": [
    {
     "data": {
      "text/html": [
       "<div>\n",
       "<style scoped>\n",
       "    .dataframe tbody tr th:only-of-type {\n",
       "        vertical-align: middle;\n",
       "    }\n",
       "\n",
       "    .dataframe tbody tr th {\n",
       "        vertical-align: top;\n",
       "    }\n",
       "\n",
       "    .dataframe thead th {\n",
       "        text-align: right;\n",
       "    }\n",
       "</style>\n",
       "<table border=\"1\" class=\"dataframe\">\n",
       "  <thead>\n",
       "    <tr style=\"text-align: right;\">\n",
       "      <th></th>\n",
       "      <th>user</th>\n",
       "      <th>week</th>\n",
       "      <th>emails_opened</th>\n",
       "      <th>amount</th>\n",
       "    </tr>\n",
       "  </thead>\n",
       "  <tbody>\n",
       "    <tr>\n",
       "      <th>0</th>\n",
       "      <td>2.0</td>\n",
       "      <td>2018-03-26</td>\n",
       "      <td>3.0</td>\n",
       "      <td>NaN</td>\n",
       "    </tr>\n",
       "    <tr>\n",
       "      <th>1</th>\n",
       "      <td>2.0</td>\n",
       "      <td>2017-10-30</td>\n",
       "      <td>3.0</td>\n",
       "      <td>NaN</td>\n",
       "    </tr>\n",
       "    <tr>\n",
       "      <th>2</th>\n",
       "      <td>2.0</td>\n",
       "      <td>2017-01-23</td>\n",
       "      <td>3.0</td>\n",
       "      <td>NaN</td>\n",
       "    </tr>\n",
       "    <tr>\n",
       "      <th>3</th>\n",
       "      <td>2.0</td>\n",
       "      <td>2015-02-23</td>\n",
       "      <td>3.0</td>\n",
       "      <td>NaN</td>\n",
       "    </tr>\n",
       "    <tr>\n",
       "      <th>4</th>\n",
       "      <td>2.0</td>\n",
       "      <td>2016-04-04</td>\n",
       "      <td>3.0</td>\n",
       "      <td>NaN</td>\n",
       "    </tr>\n",
       "    <tr>\n",
       "      <th>...</th>\n",
       "      <td>...</td>\n",
       "      <td>...</td>\n",
       "      <td>...</td>\n",
       "      <td>...</td>\n",
       "    </tr>\n",
       "    <tr>\n",
       "      <th>99</th>\n",
       "      <td>999.0</td>\n",
       "      <td>2017-03-27</td>\n",
       "      <td>2.0</td>\n",
       "      <td>NaN</td>\n",
       "    </tr>\n",
       "    <tr>\n",
       "      <th>100</th>\n",
       "      <td>999.0</td>\n",
       "      <td>2017-10-02</td>\n",
       "      <td>1.0</td>\n",
       "      <td>NaN</td>\n",
       "    </tr>\n",
       "    <tr>\n",
       "      <th>101</th>\n",
       "      <td>999.0</td>\n",
       "      <td>2018-01-08</td>\n",
       "      <td>0.0</td>\n",
       "      <td>NaN</td>\n",
       "    </tr>\n",
       "    <tr>\n",
       "      <th>102</th>\n",
       "      <td>999.0</td>\n",
       "      <td>2017-04-17</td>\n",
       "      <td>1.0</td>\n",
       "      <td>NaN</td>\n",
       "    </tr>\n",
       "    <tr>\n",
       "      <th>103</th>\n",
       "      <td>999.0</td>\n",
       "      <td>2017-08-07</td>\n",
       "      <td>0.0</td>\n",
       "      <td>NaN</td>\n",
       "    </tr>\n",
       "  </tbody>\n",
       "</table>\n",
       "<p>37130 rows × 4 columns</p>\n",
       "</div>"
      ],
      "text/plain": [
       "      user       week  emails_opened  amount\n",
       "0      2.0 2018-03-26            3.0     NaN\n",
       "1      2.0 2017-10-30            3.0     NaN\n",
       "2      2.0 2017-01-23            3.0     NaN\n",
       "3      2.0 2015-02-23            3.0     NaN\n",
       "4      2.0 2016-04-04            3.0     NaN\n",
       "..     ...        ...            ...     ...\n",
       "99   999.0 2017-03-27            2.0     NaN\n",
       "100  999.0 2017-10-02            1.0     NaN\n",
       "101  999.0 2018-01-08            0.0     NaN\n",
       "102  999.0 2017-04-17            1.0     NaN\n",
       "103  999.0 2017-08-07            0.0     NaN\n",
       "\n",
       "[37130 rows x 4 columns]"
      ]
     },
     "execution_count": 35,
     "metadata": {},
     "output_type": "execute_result"
    }
   ],
   "source": [
    "merged_df"
   ]
  },
  {
   "cell_type": "markdown",
   "metadata": {},
   "source": [
    "We now have our email and donations data lined up per member. For each memberwe  include  only  meaningful  weeks,  and  not  weeks  that  appear  to  be  before  or  aftertheir membership period."
   ]
  },
  {
   "cell_type": "code",
   "execution_count": null,
   "metadata": {},
   "outputs": [],
   "source": []
  }
 ],
 "metadata": {
  "kernelspec": {
   "display_name": "Python 3",
   "language": "python",
   "name": "python3"
  },
  "language_info": {
   "codemirror_mode": {
    "name": "ipython",
    "version": 3
   },
   "file_extension": ".py",
   "mimetype": "text/x-python",
   "name": "python",
   "nbconvert_exporter": "python",
   "pygments_lexer": "ipython3",
   "version": "3.7.9"
  }
 },
 "nbformat": 4,
 "nbformat_minor": 4
}
