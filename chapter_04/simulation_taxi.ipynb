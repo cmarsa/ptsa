{
 "cells": [
  {
   "cell_type": "markdown",
   "metadata": {},
   "source": [
    "# TaxiCab Simulation"
   ]
  },
  {
   "cell_type": "code",
   "execution_count": 2,
   "metadata": {},
   "outputs": [],
   "source": [
    "import os\n",
    "import numpy as np"
   ]
  },
  {
   "cell_type": "code",
   "execution_count": 3,
   "metadata": {},
   "outputs": [
    {
     "data": {
      "text/plain": [
       "'/home/box/dev/ptsa'"
      ]
     },
     "execution_count": 3,
     "metadata": {},
     "output_type": "execute_result"
    }
   ],
   "source": [
    "# change working path\n",
    "os.chdir('../')\n",
    "os.getcwd()"
   ]
  },
  {
   "cell_type": "code",
   "execution_count": 36,
   "metadata": {},
   "outputs": [],
   "source": [
    "def taxi_id_number(num_taxis):\n",
    "    arr = np.arange(num_taxis)\n",
    "    np.random.shuffle(arr)\n",
    "    for i in range(num_taxis):\n",
    "        yield arr[i]"
   ]
  },
  {
   "cell_type": "markdown",
   "metadata": {},
   "source": [
    "In the case of this simple taxi simulation, we compartmentalize our taxis into differ‐\n",
    "ent shifts, and we also use a generator to indicate shifts. We schedule more taxis in\n",
    "the middle of the day than in the evening or overnight shifts by setting different\n",
    "probabilities for starting a shift at a given time:"
   ]
  },
  {
   "cell_type": "code",
   "execution_count": 37,
   "metadata": {},
   "outputs": [],
   "source": [
    "def shift_info():\n",
    "    start_times_and_freqs = [(0, 8), (8, 30), (16, 15)]\n",
    "    indices = np.arange(len(start_times_and_freqs))\n",
    "    while True:\n",
    "        idx = np.random.choice(indices, p = [0.25, 0.5, 0.25])\n",
    "        start = start_times_and_freqs[idx]\n",
    "        yield (start[0], start[0] + 7.5, start[1])"
   ]
  },
  {
   "cell_type": "markdown",
   "metadata": {},
   "source": [
    "Pay attention to start_times_and_freqs . This is our first bit of code that will con‐\n",
    "tribute to making this a time series simulation. We are indicating that different parts\n",
    "of the day have different likelihoods of having a taxi assigned to the shift. Addition‐\n",
    "ally, different times of the day have a different mean number of trips."
   ]
  },
  {
   "cell_type": "markdown",
   "metadata": {},
   "source": [
    "Now we create a more complex generator that will use the preceding generators to\n",
    "establish individual taxi parameters as well as create individual taxi timelines:"
   ]
  },
  {
   "cell_type": "code",
   "execution_count": 58,
   "metadata": {},
   "outputs": [],
   "source": [
    "def taxi_process(taxi_id_generator, shift_info_generator):\n",
    "    taxi_id = next(taxi_id_generator)\n",
    "    shift_start, shift_end, shift_mean_trips = next(shift_info_generator)\n",
    "    actual_trips = round(np.random.normal(loc = shift_mean_trips,\n",
    "                                          scale = 2))\n",
    "    average_trip_time = 6.5 / shift_mean_trips * 60\n",
    "    # convert mean trip time to minutes\n",
    "    between_events_time = 1.0 / (shift_mean_trips - 1) * 60\n",
    "    # this is an effivient city where cabs are seldom unused\n",
    "    time = shift_start\n",
    "    yield TimePoint(taxi_id, 'start shift    ', time)\n",
    "    deltaT = np.random.poisson(average_trip_time) / 60\n",
    "    time += deltaT\n",
    "    for i in range(actual_trips):\n",
    "        yield TimePoint(taxi_id, 'pick up    ', time)\n",
    "        deltaT = np.random.poisson(average_trip_time) / 60\n",
    "        time += deltaT\n",
    "        yield TimePoint(taxi_id, 'drop of    ', time)\n",
    "        deltaT = np.random.poisson(between_events_time) / 60\n",
    "        time += deltaT\n",
    "    deltaT = np.random.poisson(between_events_time) / 60\n",
    "    time += deltaT\n",
    "    yield TimePoint(taxi_id, 'end shift   ', time)"
   ]
  },
  {
   "cell_type": "markdown",
   "metadata": {},
   "source": [
    "The taxi generator yields TimePoint s, which are defined as follows:"
   ]
  },
  {
   "cell_type": "code",
   "execution_count": 59,
   "metadata": {},
   "outputs": [],
   "source": [
    "from dataclasses import dataclass\n",
    "\n",
    "@dataclass\n",
    "class TimePoint:\n",
    "    taxi_id: int\n",
    "    name: str\n",
    "    time: float\n",
    "        \n",
    "    def __lt__(self, other):\n",
    "        return self.time < other.time\n",
    "    \n",
    "    def __str__(self):\n",
    "        return f'id:{self.taxi_id}, name:{self.name}, time:{self.time}'\n"
   ]
  },
  {
   "cell_type": "markdown",
   "metadata": {},
   "source": [
    "A priority queue is an abstract data type into which objects can be inserted in any\n",
    "order but which will emit objects in a specified order based on their priority."
   ]
  },
  {
   "cell_type": "markdown",
   "metadata": {},
   "source": [
    "We have a simulation class to run these taxi generators and keep them assembled.\n",
    "This is not merely a dataclass because it has quite a bit of functionality, even in the\n",
    "initializer, to arrange the inputs into a sensible array of information and processing.\n",
    "Note that the only public-facing functionality is the run() function:"
   ]
  },
  {
   "cell_type": "code",
   "execution_count": 60,
   "metadata": {},
   "outputs": [],
   "source": [
    "import queue\n",
    "\n",
    "class Simulator:\n",
    "    def __init__(self, num_taxis):\n",
    "        self._time_points = queue.PriorityQueue()\n",
    "        taxi_id_generator = taxi_id_number(num_taxis)\n",
    "        shift_info_generator = shift_info()\n",
    "        self._taxis = [taxi_process(taxi_id_generator, shift_info_generator)\n",
    "                                    for i in range(num_taxis)]\n",
    "        self._prepare_run()\n",
    "    \n",
    "    def _prepare_run(self):\n",
    "        for t in self._taxis[0]:\n",
    "            print(t)\n",
    "            while True:\n",
    "                try:\n",
    "                    e = next(t)\n",
    "                    self._time_points.put(e)\n",
    "                except:\n",
    "                    break\n",
    "    \n",
    "    def run(self):\n",
    "        sim_time = 0\n",
    "        while sim_time < 24:\n",
    "            if self._time_points.empty():\n",
    "                break\n",
    "            p = self._time_points.get()\n",
    "            sim_time = p.time\n",
    "            print(p)\n"
   ]
  },
  {
   "cell_type": "markdown",
   "metadata": {},
   "source": [
    "\n",
    "First, we create the number of taxi generators that we need to represent the right\n",
    "number of taxis. Then we run through each of these taxis while it still has TimePoint s\n",
    "and push all these TimePoint s into a priority queue. The priority of the object is\n",
    "determined for a custom class such as TimePoint by our implementation of a Time\n",
    "Point ’s __lt__ , where we compare start time. So, as the TimePoint s are pushed into\n",
    "the priority queue, it will prepare them to be emitted in temporal order.\n"
   ]
  },
  {
   "cell_type": "code",
   "execution_count": 71,
   "metadata": {},
   "outputs": [
    {
     "name": "stdout",
     "output_type": "stream",
     "text": [
      "id:232, name:start shift    , time:8\n",
      "id:232, name:pick up    , time:8.233333333333333\n",
      "id:232, name:drop of    , time:8.433333333333332\n",
      "id:232, name:pick up    , time:8.483333333333333\n",
      "id:232, name:drop of    , time:8.566666666666666\n",
      "id:232, name:pick up    , time:8.583333333333334\n",
      "id:232, name:drop of    , time:8.783333333333333\n",
      "id:232, name:pick up    , time:8.816666666666666\n",
      "id:232, name:drop of    , time:8.95\n",
      "id:232, name:pick up    , time:9.016666666666666\n",
      "id:232, name:drop of    , time:9.216666666666665\n",
      "id:232, name:pick up    , time:9.233333333333333\n",
      "id:232, name:drop of    , time:9.516666666666666\n",
      "id:232, name:pick up    , time:9.533333333333333\n",
      "id:232, name:drop of    , time:9.666666666666666\n",
      "id:232, name:pick up    , time:9.683333333333334\n",
      "id:232, name:drop of    , time:9.933333333333334\n",
      "id:232, name:pick up    , time:9.966666666666667\n",
      "id:232, name:drop of    , time:10.233333333333334\n",
      "id:232, name:pick up    , time:10.250000000000002\n",
      "id:232, name:drop of    , time:10.416666666666668\n",
      "id:232, name:pick up    , time:10.466666666666669\n",
      "id:232, name:drop of    , time:10.750000000000002\n",
      "id:232, name:pick up    , time:10.750000000000002\n",
      "id:232, name:drop of    , time:10.866666666666669\n",
      "id:232, name:pick up    , time:10.900000000000002\n",
      "id:232, name:drop of    , time:11.200000000000003\n",
      "id:232, name:pick up    , time:11.21666666666667\n",
      "id:232, name:drop of    , time:11.450000000000003\n",
      "id:232, name:pick up    , time:11.450000000000003\n",
      "id:232, name:drop of    , time:11.633333333333336\n",
      "id:232, name:pick up    , time:11.683333333333337\n",
      "id:232, name:drop of    , time:11.900000000000004\n",
      "id:232, name:pick up    , time:11.933333333333337\n",
      "id:232, name:drop of    , time:12.16666666666667\n",
      "id:232, name:pick up    , time:12.233333333333336\n",
      "id:232, name:drop of    , time:12.56666666666667\n",
      "id:232, name:pick up    , time:12.61666666666667\n",
      "id:232, name:drop of    , time:12.833333333333337\n",
      "id:232, name:pick up    , time:12.86666666666667\n",
      "id:232, name:drop of    , time:13.083333333333337\n",
      "id:232, name:pick up    , time:13.11666666666667\n",
      "id:232, name:drop of    , time:13.300000000000004\n",
      "id:232, name:pick up    , time:13.350000000000005\n",
      "id:232, name:drop of    , time:13.616666666666672\n",
      "id:232, name:pick up    , time:13.666666666666673\n",
      "id:232, name:drop of    , time:13.88333333333334\n",
      "id:232, name:pick up    , time:13.93333333333334\n",
      "id:232, name:drop of    , time:14.18333333333334\n",
      "id:232, name:pick up    , time:14.200000000000008\n",
      "id:232, name:drop of    , time:14.350000000000009\n",
      "id:232, name:pick up    , time:14.383333333333342\n",
      "id:232, name:drop of    , time:14.583333333333341\n",
      "id:232, name:pick up    , time:14.583333333333341\n",
      "id:232, name:drop of    , time:14.93333333333334\n",
      "id:232, name:pick up    , time:15.000000000000007\n",
      "id:232, name:drop of    , time:15.250000000000007\n",
      "id:232, name:pick up    , time:15.28333333333334\n",
      "id:232, name:drop of    , time:15.466666666666674\n",
      "id:232, name:pick up    , time:15.483333333333341\n",
      "id:232, name:drop of    , time:15.700000000000008\n",
      "id:232, name:end shift   , time:15.766666666666675\n"
     ]
    }
   ],
   "source": [
    "sim = Simulator(1000)\n",
    "sim.run()"
   ]
  },
  {
   "cell_type": "code",
   "execution_count": null,
   "metadata": {},
   "outputs": [],
   "source": []
  }
 ],
 "metadata": {
  "kernelspec": {
   "display_name": "Python 3",
   "language": "python",
   "name": "python3"
  },
  "language_info": {
   "codemirror_mode": {
    "name": "ipython",
    "version": 3
   },
   "file_extension": ".py",
   "mimetype": "text/x-python",
   "name": "python",
   "nbconvert_exporter": "python",
   "pygments_lexer": "ipython3",
   "version": "3.9.0"
  }
 },
 "nbformat": 4,
 "nbformat_minor": 4
}
