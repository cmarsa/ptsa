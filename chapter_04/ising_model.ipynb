{
 "cells": [
  {
   "cell_type": "markdown",
   "metadata": {},
   "source": [
    "# Ising Model"
   ]
  },
  {
   "cell_type": "markdown",
   "metadata": {},
   "source": [
    "In physics, an MCMC simulation can be used, for example, to understand how quan‐\n",
    "tum transitions in individual molecules can affect aggregate ensemble measurements\n",
    "of that system over time. In this case, we need to apply a few specific rules:"
   ]
  },
  {
   "cell_type": "markdown",
   "metadata": {},
   "source": [
    "1. In a Markov process, the probability of a transition to a state in the future\n",
    "depends only on the present state (not on past information).\n",
    "2. We will impose a physics-specific condition of requiring a Boltzmann distribu‐\n",
    "-b E -E\n",
    "tion for energy; that is, $T_{ij} / T_{ji} = e^{( E_j - E_i )}$ . For most of us, this is just an imple‐\n",
    "mentation detail and not something nonphysicists need to worry about."
   ]
  },
  {
   "cell_type": "markdown",
   "metadata": {},
   "source": [
    "We implement an MCMC simulation as follows:"
   ]
  },
  {
   "cell_type": "markdown",
   "metadata": {},
   "source": [
    "1. Select the starting state of each individual lattice site randomly.\n",
    "2. For each individual time step, choose an individual lattice site and flip its\n",
    "    direction.\n",
    "3. Calculate the change in energy that would result from this flip given the physical\n",
    "    laws you are working with. In this case this means:\n",
    "    - If the change in energy is negative, you are transitioning to a lower energy\n",
    "        state, which will always be favored, so you keep the switch and move on to the\n",
    "        next time step.\n",
    "    - If the change in energy is not negative, you accept it with the acceptance prob‐\n",
    "         ability of e (-energy change) . This is consistent with rule 2."
   ]
  },
  {
   "cell_type": "markdown",
   "metadata": {},
   "source": [
    "Continue steps 2 and 3 indefinitely until convergence to determine the most likely\n",
    "state for whatever aggregate measurement you are making."
   ]
  },
  {
   "cell_type": "markdown",
   "metadata": {},
   "source": [
    "Let’s take a look at the specific details of the Ising model. Imagine we have a two-\n",
    "dimensional material composed of a grid of objects, each one having what boils down\n",
    "to a mini-magnet that can point up or down. We put those mini-magnets randomly\n",
    "in an up or down spin at time zero, and we then record the system as it evolves from\n",
    "a random state to an ordered state at low temperature."
   ]
  },
  {
   "cell_type": "code",
   "execution_count": 4,
   "metadata": {},
   "outputs": [],
   "source": [
    "import numpy as np"
   ]
  },
  {
   "cell_type": "code",
   "execution_count": 5,
   "metadata": {},
   "outputs": [],
   "source": [
    "# config\n",
    "N = 5 # width of lattice\n",
    "M = 5 # height of lattice\n",
    "\n",
    "# temperature settings\n",
    "temperature = 0.5\n",
    "BETA = 1/temperature"
   ]
  },
  {
   "cell_type": "code",
   "execution_count": 6,
   "metadata": {},
   "outputs": [],
   "source": [
    "def init_random_state(N, M):\n",
    "    block = np.random.choice([-1, 1], size = (N, M))\n",
    "    return block"
   ]
  },
  {
   "cell_type": "markdown",
   "metadata": {},
   "source": [
    "We also calculate the energy for a given center state alignment relative to its\n",
    "neighbors:"
   ]
  },
  {
   "cell_type": "code",
   "execution_count": 7,
   "metadata": {},
   "outputs": [],
   "source": [
    "def cost_for_center_state(state, i, j, n, m):\n",
    "    centerS = state[i, j]\n",
    "    neighbors = [\n",
    "        ((i + 1) % n, j), ((i - 1) % n, j),\n",
    "        (i, (j + 1) % m), (i, (j - 1) % m)\n",
    "    ]\n",
    "    interactionE = [state[x, y] * centerS for (x, y) in neighbors]\n",
    "    return np.sum(interactionE)"
   ]
  },
  {
   "cell_type": "markdown",
   "metadata": {},
   "source": [
    "And we want to determine the magnetization of the entire block for a given state:"
   ]
  },
  {
   "cell_type": "code",
   "execution_count": 8,
   "metadata": {},
   "outputs": [],
   "source": [
    "def magnetization_for_state(state):\n",
    "    return np.sum(state)"
   ]
  },
  {
   "cell_type": "markdown",
   "metadata": {},
   "source": [
    "Here’s where we introduce the MCMC steps discussed earlier:"
   ]
  },
  {
   "cell_type": "code",
   "execution_count": 10,
   "metadata": {},
   "outputs": [],
   "source": [
    "def mcmc_adjust(state):\n",
    "    n = state.shape[0]\n",
    "    m = state.shape[1]\n",
    "    x, y = np.random.randint(0, n), np.random.randint(0, m)\n",
    "    centerS = state[x, y]\n",
    "    cost = cost_for_center_state(state, x, y, n, m)\n",
    "    if cost < 0:\n",
    "        centerS *= -1\n",
    "    elif np.random.random() < np.exp(-cost * BETA):\n",
    "        centerS *= -1\n",
    "    state[x, y] = centerS\n",
    "    return state"
   ]
  },
  {
   "cell_type": "markdown",
   "metadata": {},
   "source": [
    "Now to actually run a simulation, we need some recordkeeping as well as repeated\n",
    "calls to the MCMC adjustment:"
   ]
  },
  {
   "cell_type": "code",
   "execution_count": 15,
   "metadata": {},
   "outputs": [],
   "source": [
    "def run_state(state, n_steps, snapsteps = None):\n",
    "    if snapsteps is None:\n",
    "        snapsteps = np.linspace(0, n_steps, num = round(n_steps / (M * N * 100)),\n",
    "                                dtype = np.int32)\n",
    "    saved_states = []\n",
    "    sp = 0\n",
    "    magnet_hist = []\n",
    "    for i in range(n_steps):\n",
    "        state = mcmc_adjust(state)\n",
    "        magnet_hist.append(magnetization_for_state(state))\n",
    "        if sp < len(snapsteps) and i == snapsteps[sp]:\n",
    "            saved_states.append(np.copy(state))\n",
    "            sp += 1\n",
    "    return state, saved_states, magnet_hist"
   ]
  },
  {
   "cell_type": "code",
   "execution_count": 16,
   "metadata": {},
   "outputs": [
    {
     "name": "stdout",
     "output_type": "stream",
     "text": [
      "[[-1  1  1 -1 -1]\n",
      " [-1 -1 -1 -1  1]\n",
      " [-1 -1  1  1  1]\n",
      " [ 1  1  1 -1 -1]\n",
      " [-1 -1 -1 -1 -1]]\n"
     ]
    }
   ],
   "source": [
    "# run simulation\n",
    "init_state = init_random_state(N, M)\n",
    "print(init_state)\n",
    "final_state = run_state(np.copy(init_state), 1000)"
   ]
  },
  {
   "cell_type": "code",
   "execution_count": 17,
   "metadata": {},
   "outputs": [
    {
     "name": "stdout",
     "output_type": "stream",
     "text": [
      "(array([[-1, -1, -1, -1, -1],\n",
      "       [-1, -1, -1, -1, -1],\n",
      "       [-1, -1, -1, -1, -1],\n",
      "       [-1, -1, -1, -1, -1],\n",
      "       [-1, -1, -1, -1, -1]]), [], [-7, -7, -7, -9, -11, -11, -13, -13, -15, -13, -15, -15, -15, -15, -15, -15, -15, -15, -17, -17, -17, -17, -17, -17, -17, -17, -17, -17, -17, -17, -17, -17, -19, -19, -19, -19, -19, -19, -19, -19, -19, -19, -21, -21, -21, -21, -21, -21, -21, -23, -23, -23, -23, -23, -23, -23, -23, -23, -23, -23, -25, -25, -25, -25, -25, -25, -25, -25, -25, -25, -25, -25, -25, -25, -25, -25, -25, -25, -25, -25, -25, -25, -25, -25, -25, -25, -25, -25, -25, -25, -25, -25, -25, -25, -25, -25, -25, -25, -25, -25, -25, -25, -25, -25, -25, -25, -25, -25, -25, -25, -25, -25, -25, -25, -25, -25, -25, -25, -25, -25, -25, -25, -25, -25, -25, -25, -25, -25, -25, -25, -25, -25, -25, -25, -25, -25, -25, -25, -25, -25, -25, -25, -25, -25, -25, -25, -25, -25, -25, -25, -25, -25, -25, -25, -25, -25, -25, -25, -25, -25, -25, -25, -25, -25, -25, -25, -25, -25, -25, -25, -25, -25, -25, -25, -25, -25, -25, -25, -25, -25, -25, -25, -25, -25, -25, -25, -25, -25, -25, -25, -25, -25, -25, -25, -25, -25, -25, -25, -25, -25, -25, -25, -25, -25, -25, -25, -25, -25, -25, -25, -25, -25, -25, -25, -25, -25, -25, -25, -25, -25, -25, -25, -25, -25, -25, -25, -25, -25, -25, -25, -25, -25, -25, -25, -25, -25, -25, -25, -25, -25, -25, -25, -25, -25, -25, -25, -25, -25, -25, -25, -25, -25, -25, -25, -25, -25, -25, -25, -25, -25, -25, -25, -25, -25, -25, -25, -25, -25, -25, -25, -25, -25, -25, -25, -25, -25, -25, -25, -25, -25, -25, -25, -25, -25, -25, -25, -25, -25, -25, -25, -25, -25, -25, -25, -25, -25, -25, -25, -25, -25, -25, -25, -25, -25, -25, -25, -25, -25, -25, -25, -25, -25, -25, -25, -25, -25, -25, -25, -25, -25, -25, -25, -25, -25, -25, -25, -25, -25, -25, -25, -25, -25, -25, -25, -25, -25, -25, -25, -25, -25, -25, -25, -25, -25, -25, -25, -25, -25, -25, -25, -25, -25, -25, -25, -25, -25, -25, -25, -25, -25, -25, -25, -25, -25, -25, -25, -25, -25, -25, -25, -25, -25, -25, -25, -25, -25, -25, -25, -25, -25, -25, -25, -25, -25, -25, -25, -25, -25, -25, -25, -25, -25, -25, -25, -25, -25, -25, -25, -25, -25, -25, -25, -25, -25, -25, -25, -25, -25, -25, -25, -25, -25, -25, -25, -25, -25, -25, -25, -25, -25, -25, -25, -25, -25, -25, -25, -25, -25, -25, -25, -25, -25, -25, -25, -25, -25, -25, -25, -25, -25, -25, -25, -25, -25, -25, -25, -25, -25, -25, -25, -25, -25, -25, -25, -25, -25, -25, -25, -25, -25, -25, -25, -25, -25, -25, -25, -25, -25, -25, -25, -25, -25, -25, -25, -25, -25, -25, -25, -25, -25, -25, -25, -25, -25, -25, -25, -25, -25, -25, -25, -25, -25, -25, -25, -25, -25, -25, -25, -25, -25, -25, -25, -25, -25, -25, -25, -25, -25, -25, -25, -25, -25, -25, -25, -25, -25, -25, -25, -25, -25, -25, -25, -25, -25, -25, -25, -25, -25, -25, -25, -25, -25, -25, -25, -25, -25, -25, -25, -25, -25, -25, -25, -25, -25, -25, -25, -25, -25, -25, -25, -25, -25, -25, -25, -25, -25, -25, -25, -25, -25, -25, -25, -25, -25, -25, -25, -25, -25, -25, -25, -25, -25, -25, -25, -25, -25, -25, -25, -25, -25, -25, -25, -25, -25, -25, -25, -25, -25, -25, -25, -25, -25, -25, -25, -25, -25, -25, -25, -25, -25, -25, -25, -25, -25, -25, -25, -25, -25, -25, -25, -25, -25, -25, -25, -25, -25, -25, -25, -25, -25, -25, -25, -25, -25, -25, -25, -25, -25, -25, -25, -25, -25, -25, -25, -25, -25, -25, -25, -25, -25, -25, -25, -25, -25, -25, -25, -25, -25, -25, -25, -25, -25, -25, -25, -25, -25, -25, -25, -25, -25, -25, -25, -25, -25, -25, -25, -25, -25, -25, -25, -25, -25, -25, -25, -25, -25, -25, -25, -25, -25, -25, -25, -25, -25, -25, -25, -25, -25, -25, -25, -25, -25, -25, -25, -25, -25, -25, -25, -25, -25, -25, -25, -25, -25, -25, -25, -25, -25, -25, -25, -25, -25, -25, -25, -25, -25, -25, -25, -25, -25, -25, -25, -25, -25, -25, -25, -25, -25, -25, -25, -25, -25, -25, -25, -25, -25, -25, -25, -25, -25, -25, -25, -25, -25, -25, -25, -25, -25, -25, -25, -25, -25, -25, -25, -25, -25, -25, -25, -25, -25, -25, -25, -25, -25, -25, -25, -25, -25, -25, -25, -25, -25, -25, -25, -25, -25, -25, -25, -25, -25, -25, -25, -25, -25, -25, -25, -25, -25, -25, -25, -25, -25, -25, -25, -25, -25, -25, -25, -25, -25, -25, -25, -25, -25, -25, -25, -25, -25, -25, -25, -25, -25, -25, -25, -25, -25, -25, -25, -25, -25, -25, -25, -25, -25, -25, -25, -25, -25, -25, -25, -25, -25, -25, -25, -25, -25, -25, -25, -25, -25, -25, -25, -25, -25, -25, -25, -25, -25, -25, -25, -25, -25, -25, -25, -25, -25, -25, -25, -25, -25, -25, -25, -25, -25, -25, -25, -25, -25, -25, -25, -25, -25, -25, -25, -25, -25, -25, -25, -25, -25, -25, -25, -25, -25, -25, -25, -25, -25, -25, -25, -25, -25, -25, -25, -25, -25, -25, -25, -25, -25, -25, -25, -25, -25, -25, -25, -25, -25, -25, -25, -25, -25, -25, -25, -25, -25, -25, -25, -25, -25, -25, -25, -25, -25, -25, -25, -25, -25, -25, -25, -25, -25, -25, -25, -25, -25, -25, -25, -25, -25, -25, -25, -25, -25, -25, -25, -25, -25, -25, -25, -25, -25, -25, -25, -25, -25, -25, -25, -25, -25, -25, -25, -25, -25, -25, -25, -25, -25, -25, -25, -25, -25, -25, -25, -25, -25, -25, -25, -25, -25, -25, -25, -25, -25, -25, -25, -25, -25, -25, -25, -25, -25, -25, -25, -25, -25, -25, -25, -25, -25])\n"
     ]
    }
   ],
   "source": [
    "print(final_state)"
   ]
  },
  {
   "cell_type": "markdown",
   "metadata": {},
   "source": [
    "We do this with magnetization over time for many independent runs of the previous\n",
    "simulation"
   ]
  },
  {
   "cell_type": "code",
   "execution_count": 19,
   "metadata": {},
   "outputs": [
    {
     "data": {
      "image/png": "[encoded data removed]",
      "text/plain": [
       "<Figure size 432x288 with 1 Axes>"
      ]
     },
     "metadata": {
      "needs_background": "light"
     },
     "output_type": "display_data"
    }
   ],
   "source": [
    "results = []\n",
    "for i in range(100):\n",
    "    init_state = init_random_state(N, M)\n",
    "    final_state, states, magnet_hist = run_state(init_state, 1000)\n",
    "    results.append(magnet_hist)\n",
    "\n",
    "# we plot each curve with some transparency so we can\n",
    "# see curves that overlap\n",
    "import matplotlib.pyplot as plt\n",
    "for mh in results:\n",
    "    plt.plot(mh, 'r', alpha = 0.2)"
   ]
  },
  {
   "cell_type": "markdown",
   "metadata": {},
   "source": [
    "The magnetization curves are just one example of how we could picture the system\n",
    "evolving over time. We might also consider recording 2D time series, as the snapshot\n",
    "of the overall state at each point in time. Or there might be other interesting aggre‐\n",
    "gate variables to measure at each step, such as a measure of layout entropy or a meas‐\n",
    "ure of total energy. Quantities such as magnetization or entropy are related\n",
    "quantities, as they are a function of the geometric layout of the state at each lattice\n",
    "site, but each quantity is a slightly different measure."
   ]
  },
  {
   "cell_type": "code",
   "execution_count": null,
   "metadata": {},
   "outputs": [],
   "source": []
  }
 ],
 "metadata": {
  "kernelspec": {
   "display_name": "Python 3",
   "language": "python",
   "name": "python3"
  },
  "language_info": {
   "codemirror_mode": {
    "name": "ipython",
    "version": 3
   },
   "file_extension": ".py",
   "mimetype": "text/x-python",
   "name": "python",
   "nbconvert_exporter": "python",
   "pygments_lexer": "ipython3",
   "version": "3.9.0"
  }
 },
 "nbformat": 4,
 "nbformat_minor": 4
}
