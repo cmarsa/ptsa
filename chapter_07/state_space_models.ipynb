{
 "cells": [
  {
   "cell_type": "markdown",
   "metadata": {},
   "source": [
    "# State Space models for Time Series"
   ]
  },
  {
   "cell_type": "markdown",
   "metadata": {},
   "source": [
    "State space models are similar to the statistical models we looked at in the previous\n",
    "chapter but with a more “real-world” motivation. They address concerns that emerge\n",
    "in real-world engineering problems, such as how to factor in measurement error\n",
    "when making estimates and how to inject prior knowledge or belief into estimates.\n",
    "\n",
    "State space models posit a world in which the true state cannot be measured directly\n",
    "but only inferred from what can be measured. State space models also rely on specify‐\n",
    "ing the dynamics of a system, such as how the true state of the world evolves over\n",
    "time, both due to internal dynamics and the external forces that are applied to a\n",
    "system.\n",
    "\n",
    "While you may not have seen state space models before in a mathematical context,\n",
    "you have likely used them in your day-to-day life. For example, imagine you see a\n",
    "driver weaving in traffic. You try to determine where the driver is going and how you\n",
    "can best defend yourself. If the driver might be intoxicated, you would consider call‐\n",
    "ing the police, whereas if the driver was temporarily distracted for a reason that won’t\n",
    "repeat itself, you’d probably mind your own business. In the next few seconds or\n",
    "minutes you would update your own state space model of that driver before deciding\n",
    "what to do.\n",
    "\n",
    "A classic example of where you would use a state space model is a rocket ship\n",
    "launched into space. We know Newton’s laws, so we can write the rules for the\n",
    "dynamics of the system and what the motion should look like over time. We also\n",
    "know that our GPS or sensors or whatever we use to track location will have some\n",
    "measurement error that we can quantify and attempt to factor into the uncertainty\n",
    "about our calculations. Finally, we know that we can’t account for all the forces in the\n",
    "world acting on a particular rocket as there are many unknowns in the system, so we\n",
    "want a process that is robust to other unknown sources of noise, perhaps solar wind\n",
    "or earthly wind or both. As it turns out, statistical and engineering advances in the\n",
    "last 50 years have proven quite useful for tackling these sorts of situations.\n",
    "\n",
    "Two different historical trends led to the development of state space models and\n",
    "interest in the kinds of problems they address. First, around the middle of the 20th\n",
    "century, we entered an age of mechanical automation. There were rockets and space‐\n",
    "ships in the sky, navigation systems for submarines, and all sorts of other automated\n",
    "inventions that required estimation of a system state that could not be measured. As\n",
    "researchers thought about how to estimate system state, they began developing state\n",
    "space methods, most importantly to disambiguate measurement errors from other\n",
    "kinds of uncertainty in the system. This led to the first uses of state space methods.\n",
    "During this time period, too, recordkeeping technology and associated computing\n",
    "were also developing. This led to the creation of much larger data sets for time series,\n",
    "including much longer or more detailed time series data sets. As more time series\n",
    "data became available, more data-intensive methods could be developed for them in\n",
    "conjunction with the new thinking about state space modeling.\n",
    "\n",
    "In this chapter we will study these commonly used state space methods:\n",
    "- The Kalman filter applied to a linear Gaussian model\n",
    "- Hidden Markov Models\n",
    "- Bayesian structural time series\n",
    "\n",
    "In each of these cases, the use of such models is quite accessible and well imple‐\n",
    "mented. For each model, we will develop some intuition for the mathematics and dis‐\n",
    "cuss what kind of data is appropriate for use with the method. Finally, we will see\n",
    "code examples for each method.\n",
    "\n",
    "In each case we will distinguish between what we observe and the state that produced\n",
    "our observations. In estimating the underlying state based on observations, we can\n",
    "divide our work into different stages or categories:\n",
    "\n",
    "_Filtering_\n",
    "- Using the measurement at time t to update our estimation of the state at time t\n",
    "\n",
    "_Forecasting_\n",
    "- Using the measurement at time t – 1 to generate a prediction for the expected\n",
    "state at time t (allowing us to infer the expected measurement at time t as well)\n",
    "\n",
    "_Smoothing_\n",
    "- Using measurement during a range of time that includes t, both before and after\n",
    "it, to estimate what the true state at time t was"
   ]
  },
  {
   "cell_type": "markdown",
   "metadata": {},
   "source": [
    "The mechanics of these operations will often be similar, but the distinctions are\n",
    "important. Filtering is a way of deciding how to weigh the most recent information\n",
    "against past information in updating our estimate of state. Forecasting is the\n",
    "prediction of the future state without any information about the future. Smoothing is\n",
    "the use of future and past information in making a best estimate of the state at a given\n",
    "time."
   ]
  },
  {
   "cell_type": "code",
   "execution_count": null,
   "metadata": {},
   "outputs": [],
   "source": []
  }
 ],
 "metadata": {
  "kernelspec": {
   "display_name": "R",
   "language": "R",
   "name": "ir"
  },
  "language_info": {
   "codemirror_mode": "r",
   "file_extension": ".r",
   "mimetype": "text/x-r-source",
   "name": "R",
   "pygments_lexer": "r",
   "version": "4.0.3"
  }
 },
 "nbformat": 4,
 "nbformat_minor": 4
}
