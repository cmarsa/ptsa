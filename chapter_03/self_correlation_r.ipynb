{
 "cells": [
  {
   "cell_type": "markdown",
   "metadata": {},
   "source": [
    "# __Self Correlation__ (R)"
   ]
  },
  {
   "cell_type": "markdown",
   "metadata": {},
   "source": [
    "At its most fundamental, self-correlation of a time series is the idea that a value in a\n",
    "time series at one given point in time may have a correlation to the value at another\n",
    "point in time. "
   ]
  },
  {
   "cell_type": "markdown",
   "metadata": {},
   "source": [
    "As an example of self correlation, if you take a yearly time series of daily temperature\n",
    "data, you may find that comparing May 15th of every year to August 15th of every\n",
    "year will give you some correlation, such that hotter May 15ths tend to correlate with\n",
    "hotter August 15ths (or tend to correlate with cooler August 15ths). You may feel you\n",
    "have learned a potentially interesting fact about the temperature system, indicating\n",
    "that there is a certain amount of long-term predictability. On the other hand, you\n",
    "may find the correlation closer to zero, in which case you will also have found some‐\n",
    "thing interesting, namely that knowing the temperature on May 15th does not alone\n",
    "give you any information about the likely range of temperatures on August 15th.\n",
    "That is self-correlation in an anecdotal nutshell."
   ]
  },
  {
   "cell_type": "code",
   "execution_count": null,
   "metadata": {},
   "outputs": [],
   "source": []
  }
 ],
 "metadata": {
  "kernelspec": {
   "display_name": "R",
   "language": "R",
   "name": "ir"
  },
  "language_info": {
   "codemirror_mode": "r",
   "file_extension": ".r",
   "mimetype": "text/x-r-source",
   "name": "R",
   "pygments_lexer": "r",
   "version": "4.0.3"
  }
 },
 "nbformat": 4,
 "nbformat_minor": 4
}
